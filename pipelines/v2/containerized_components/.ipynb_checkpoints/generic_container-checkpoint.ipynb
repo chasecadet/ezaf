{
 "cells": [
  {
   "cell_type": "code",
   "execution_count": 4,
   "id": "82f22eec-b3c9-4106-901d-263c0a3589c7",
   "metadata": {},
   "outputs": [],
   "source": [
    "from kfp import dsl\n",
    "\n",
    "@dsl.container_component\n",
    "def say_hello():\n",
    "    return dsl.ContainerSpec(image='alpine', command=['echo'], args=['Hello'])"
   ]
  },
  {
   "cell_type": "code",
   "execution_count": 5,
   "id": "6502b580-1c53-4be8-b4d3-eaf7a15718f2",
   "metadata": {},
   "outputs": [],
   "source": [
    "from kfp import dsl\n",
    "from kfp import compiler\n",
    "\n",
    "@dsl.pipeline\n",
    "def hello_pipeline():\n",
    "    say_hello()\n",
    "\n",
    "compiler.Compiler().compile(hello_pipeline, 'generic_pipeline.yaml')"
   ]
  },
  {
   "cell_type": "code",
   "execution_count": null,
   "id": "d9298e70-005c-4f4c-b245-90d89e7a009c",
   "metadata": {},
   "outputs": [],
   "source": [
    "# Now adding inputs"
   ]
  },
  {
   "cell_type": "code",
   "execution_count": 7,
   "id": "c667d597-2e1f-4ed5-a434-0c53e6e309a4",
   "metadata": {},
   "outputs": [],
   "source": [
    "from kfp import dsl\n",
    "\n",
    "@dsl.container_component\n",
    "def say_hello(name: str):\n",
    "    return dsl.ContainerSpec(image='alpine', command=['sh', '-c', 'echo Hello, $0!'], args=[name])"
   ]
  },
  {
   "cell_type": "code",
   "execution_count": 8,
   "id": "36e3ba98-08c0-470e-b9d6-2b76bbdc653c",
   "metadata": {},
   "outputs": [],
   "source": [
    "# Adding outputs "
   ]
  },
  {
   "cell_type": "code",
   "execution_count": 17,
   "id": "aabf1d31-70ea-497c-97c2-e6669809152e",
   "metadata": {},
   "outputs": [],
   "source": [
    "@dsl.container_component\n",
    "def say_hello(name: str, greeting: dsl.OutputPath(str)):\n",
    "    \"\"\"Log a greeting and return it as an output.\"\"\"\n",
    "\n",
    "    return dsl.ContainerSpec(\n",
    "        image='alpine',\n",
    "        command=[\n",
    "            'sh', '-c', '''RESPONSE=\"Hello, $0!\"\\\n",
    "                            && echo $RESPONSE\\\n",
    "                            && mkdir -p $(dirname $1)\\\n",
    "                            && echo $RESPONSE > $1\n",
    "                            '''\n",
    "        ],\n",
    "        args=[name, greeting])"
   ]
  },
  {
   "cell_type": "code",
   "execution_count": 10,
   "id": "02bc0673-c037-44e5-8100-286b42497048",
   "metadata": {},
   "outputs": [],
   "source": [
    "# Create the pipeline"
   ]
  },
  {
   "cell_type": "code",
   "execution_count": 13,
   "id": "4d4c059b-9f22-4977-b8bd-33e62d92a7b8",
   "metadata": {},
   "outputs": [],
   "source": [
    "from kfp import dsl\n",
    "from kfp import compiler\n",
    "\n",
    "@dsl.pipeline\n",
    "def hello_pipeline(person_to_greet: str) -> str:\n",
    "    # greeting argument is provided automatically at runtime!\n",
    "    hello_task = say_hello(name=person_to_greet)\n",
    "    return hello_task.outputs['greeting']\n",
    "\n",
    "compiler.Compiler().compile(hello_pipeline, 'io_pipeline.yaml')"
   ]
  },
  {
   "cell_type": "code",
   "execution_count": 14,
   "id": "9c361140-4d45-46e3-8c21-1c922095780d",
   "metadata": {},
   "outputs": [],
   "source": [
    "# Multiple steps with a custom container! "
   ]
  },
  {
   "cell_type": "code",
   "execution_count": 18,
   "id": "ce2254df-1c74-446c-94be-f0e2f361c0ea",
   "metadata": {},
   "outputs": [],
   "source": [
    "@dsl.container_component\n",
    "def say_what(greeting: str, response: dsl.OutputPath(str)):\n",
    "    \"\"\"Log a greeting and return it as an output.\"\"\"\n",
    "\n",
    "    return dsl.ContainerSpec(\n",
    "        image='alpine',\n",
    "        command=[\n",
    "            'sh', '-c', '''RESPONSE=\"What did you say?, $0!, how the heck did you know my name? POLICE!\"\\\n",
    "                            && echo $RESPONSE\\\n",
    "                            && mkdir -p $(dirname $1)\\\n",
    "                            && echo $RESPONSE > $1\n",
    "                            '''\n",
    "        ],\n",
    "        args=[greeting, response])"
   ]
  },
  {
   "cell_type": "code",
   "execution_count": 20,
   "id": "1dbbc1ae-1f27-4f89-b696-68a1ab11cde4",
   "metadata": {},
   "outputs": [],
   "source": [
    "from kfp import dsl\n",
    "from kfp import compiler\n",
    "\n",
    "@dsl.pipeline\n",
    "def hello_pipeline(person_to_greet: str) -> str:\n",
    "    # greeting argument is provided automatically at runtime!\n",
    "    hello_task = say_hello(name=person_to_greet)\n",
    "    response_task = say_what(greeting=hello_task.outputs['greeting'])\n",
    "    return response_task.outputs['response']\n",
    "\n",
    "compiler.Compiler().compile(hello_pipeline, 'you_oughta_io_pipeline.yaml')"
   ]
  },
  {
   "cell_type": "code",
   "execution_count": null,
   "id": "45ee50d3-8492-4b29-bfbc-fc60fdb2db2e",
   "metadata": {},
   "outputs": [],
   "source": []
  }
 ],
 "metadata": {
  "kernelspec": {
   "display_name": "Python 3 (ipykernel)",
   "language": "python",
   "name": "python3"
  },
  "language_info": {
   "codemirror_mode": {
    "name": "ipython",
    "version": 3
   },
   "file_extension": ".py",
   "mimetype": "text/x-python",
   "name": "python",
   "nbconvert_exporter": "python",
   "pygments_lexer": "ipython3",
   "version": "3.8.10"
  }
 },
 "nbformat": 4,
 "nbformat_minor": 5
}
