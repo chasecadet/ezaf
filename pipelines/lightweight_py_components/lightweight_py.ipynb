{
 "cells": [
  {
   "cell_type": "code",
   "execution_count": null,
   "id": "4467f274-475f-4bfb-a2e9-97251c1d9c16",
   "metadata": {},
   "outputs": [],
   "source": [
    "# A single lightweight component we register in realtime"
   ]
  },
  {
   "cell_type": "code",
   "execution_count": null,
   "id": "91fcb405-2ff8-4b0a-ab0b-d15e8bc967b8",
   "metadata": {
    "tags": [
     "block:first"
    ]
   },
   "outputs": [],
   "source": [
    "from kfp import dsl\n",
    "import os\n",
    "\n",
    "@dsl.component\n",
    "def say_hello(name: str) -> str:\n",
    "    hello_text = f'Hello, {name}!'\n",
    "    print(hello_text)\n",
    "    return hello_text\n",
    "\n",
    "@dsl.pipeline\n",
    "def hello_pipeline(recipient: str) -> str:\n",
    "    hello_task = say_hello(name=recipient)\n",
    "    return hello_task.output\n"
   ]
  },
  {
   "cell_type": "code",
   "execution_count": null,
   "id": "c893dd72-f87f-4a8f-b9fb-a7be4678351a",
   "metadata": {
    "tags": []
   },
   "outputs": [],
   "source": [
    "from kfp import compiler\n",
    "\n",
    "compiler.Compiler().compile(hello_pipeline, 'pipeline.yaml')\n"
   ]
  },
  {
   "cell_type": "code",
   "execution_count": null,
   "id": "d244b279-d55e-4e65-85ec-f900610eddd5",
   "metadata": {},
   "outputs": [],
   "source": [
    "# The below SHOULD work but it wasnt on my cluster...feel free to PR the right way to do this.."
   ]
  },
  {
   "cell_type": "code",
   "execution_count": null,
   "id": "a44eb7ee-a6c1-4b41-830b-680775b19825",
   "metadata": {
    "tags": []
   },
   "outputs": [],
   "source": [
    "from kfp.client import Client\n",
    "\n",
    "client = Client(host='http://ml-pipeline-ui.kubeflow.svc.cluster.local/pipline')\n",
    "run = client.create_run_from_pipeline_package(\n",
    "    'pipeline.yaml',\n",
    "    arguments={\n",
    "        'recipient': 'World',\n",
    "    },\n",
    ")\n"
   ]
  },
  {
   "cell_type": "code",
   "execution_count": null,
   "id": "89410256-1b84-4ed0-8166-f31405dc481f",
   "metadata": {
    "tags": [
     "skip"
    ]
   },
   "outputs": [],
   "source": [
    "token_file = \"/var/run/secrets/kubeflow/pipelines/token\"\n",
    "print(token_file)\n",
    "with open(token_file) as f:\n",
    "    token = f.readline()\n",
    "client = Client(host='http://ml-pipeline-ui.kubeflow/pipeline',\n",
    "               existing_token=token)\n",
    "run = client.create_run_from_pipeline_package(\n",
    "    'pipeline.yaml',\n",
    "    arguments={\n",
    "        'recipient': 'World',\n",
    "    },\n",
    ")"
   ]
  },
  {
   "cell_type": "code",
   "execution_count": null,
   "id": "d42fdd27-b50b-4378-90a6-c428e4d63247",
   "metadata": {
    "tags": []
   },
   "outputs": [],
   "source": [
    "# A multiple step pipeline showing passing of things "
   ]
  },
  {
   "cell_type": "code",
   "execution_count": 19,
   "id": "496c33ec-f7f8-4e6e-a26b-76b3cf50185e",
   "metadata": {
    "tags": []
   },
   "outputs": [],
   "source": [
    "from kfp import dsl\n",
    "import os\n",
    "\n",
    "@dsl.component\n",
    "def say_hello(name: str) -> str:\n",
    "    hello_text = f'Hello, {name}!'\n",
    "    print(hello_text)\n",
    "    return hello_text\n",
    "\n",
    "# Define our response component \n",
    "@dsl.component \n",
    "def greeting_response(greeting: str) -> str:\n",
    "    response_text = f'Did I just hear you say {greeting}? Who are you and how do you know my name!?'\n",
    "    print(response_text)\n",
    "    return response_text\n",
    "# Ensure that our response task takes the output from the previous task.\n",
    "@dsl.pipeline\n",
    "def hello_pipeline(recipient: str) -> str:\n",
    "    hello_task = say_hello(name=recipient)\n",
    "    response_task = greeting_response(greeting=hello_task.output)\n",
    "    return response_task.output\n"
   ]
  },
  {
   "cell_type": "code",
   "execution_count": null,
   "id": "8b7c6ab3-a514-45ae-b19c-84a894b5230e",
   "metadata": {},
   "outputs": [],
   "source": [
    "from kfp import compiler\n",
    "\n",
    "compiler.Compiler().compile(hello_pipeline, 'multi_pipeline.yaml')"
   ]
  },
  {
   "cell_type": "code",
   "execution_count": null,
   "id": "64f4286c-83ca-4792-b9ba-3273f6af701b",
   "metadata": {},
   "outputs": [],
   "source": [
    "# Simple Math Example"
   ]
  },
  {
   "cell_type": "code",
   "execution_count": 26,
   "id": "0dc3859d-eee8-4e72-905b-2e74bfba4c11",
   "metadata": {},
   "outputs": [],
   "source": [
    "from kfp import dsl\n",
    "\n",
    "@dsl.component\n",
    "def square(x: float) -> float:\n",
    "    return x ** 2\n",
    "\n",
    "@dsl.component\n",
    "def add(x: float, y: float) -> float:\n",
    "    return x + y\n",
    "\n",
    "@dsl.component\n",
    "def square_root(x: float) -> float:\n",
    "    return x ** .5\n",
    "\n",
    "@dsl.pipeline\n",
    "def pythagorean(a: float, b: float) -> float:\n",
    "    a_sq_task = square(x=a)\n",
    "    b_sq_task = square(x=b)\n",
    "    sum_task = add(x=a_sq_task.output, y=b_sq_task.output)\n",
    "    return square_root(x=sum_task.output).output"
   ]
  },
  {
   "cell_type": "code",
   "execution_count": 27,
   "id": "b6c1f579-8232-4280-96e7-1459ce3c7675",
   "metadata": {},
   "outputs": [],
   "source": [
    "from kfp import compiler\n",
    "compiler.Compiler().compile(pythagorean, 'math_pipeline.yaml')\n"
   ]
  },
  {
   "cell_type": "code",
   "execution_count": null,
   "id": "508599f9-be88-4e73-88da-23c2610ab4e2",
   "metadata": {},
   "outputs": [],
   "source": []
  }
 ],
 "metadata": {
  "kernelspec": {
   "display_name": "Python 3 (ipykernel)",
   "language": "python",
   "name": "python3"
  },
  "kubeflow_notebook": {
   "autosnapshot": false,
   "docker_image": "gcr.io/mapr-252711/kubeflow/notebooks/jupyter-scipy:ezaf-fy23-q2",
   "experiment": {
    "id": "",
    "name": ""
   },
   "experiment_name": "",
   "katib_run": false,
   "pipeline_description": "",
   "pipeline_name": "",
   "snapshot_volumes": false,
   "steps_defaults": [
    "label:access-ml-pipeline:true",
    "label:add-external-df-volume:true",
    "label:add-ldapcert-secret:true",
    "label:add-sssd-secret:true"
   ],
   "volume_access_mode": "rwm",
   "volumes": []
  },
  "language_info": {
   "codemirror_mode": {
    "name": "ipython",
    "version": 3
   },
   "file_extension": ".py",
   "mimetype": "text/x-python",
   "name": "python",
   "nbconvert_exporter": "python",
   "pygments_lexer": "ipython3",
   "version": "3.8.10"
  }
 },
 "nbformat": 4,
 "nbformat_minor": 5
}
