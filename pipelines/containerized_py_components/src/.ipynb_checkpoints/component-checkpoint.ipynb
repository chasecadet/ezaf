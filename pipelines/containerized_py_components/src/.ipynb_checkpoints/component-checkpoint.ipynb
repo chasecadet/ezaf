{
 "cells": [
  {
   "cell_type": "code",
   "execution_count": null,
   "id": "972948d0-f116-4276-9dd6-e2c6179d02bc",
   "metadata": {},
   "outputs": [],
   "source": [
    "from kfp import dsl\n",
    "from math_utils import add_numbers\n",
    "\n",
    "@dsl.component(base_image='python:3.7',\n",
    "               target_image='chasechristensen/addition_component:v1')\n",
    "def add(a: int, b: int) -> int:\n",
    "    return add_numbers(a, b)"
   ]
  },
  {
   "cell_type": "code",
   "execution_count": null,
   "id": "de309059-aaf1-4dac-a046-c64ae66d75d2",
   "metadata": {},
   "outputs": [],
   "source": [
    "@dsl.pipeline\n",
    "def addition_pipeline(x: int, y: int) -> int:\n",
    "    task1 = add(a=x, b=y)\n",
    "    task2 = add(a=task1.output, b=x)\n",
    "    return task2.output\n",
    "\n",
    "compiler.Compiler().compile(addition_pipeline, 'pipeline.yaml')"
   ]
  }
 ],
 "metadata": {
  "kernelspec": {
   "display_name": "Python 3 (ipykernel)",
   "language": "python",
   "name": "python3"
  },
  "language_info": {
   "codemirror_mode": {
    "name": "ipython",
    "version": 3
   },
   "file_extension": ".py",
   "mimetype": "text/x-python",
   "name": "python",
   "nbconvert_exporter": "python",
   "pygments_lexer": "ipython3",
   "version": "3.8.10"
  }
 },
 "nbformat": 4,
 "nbformat_minor": 5
}
